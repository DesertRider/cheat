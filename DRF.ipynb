{
 "cells": [
  {
   "cell_type": "markdown",
   "metadata": {},
   "source": [
    "# Tutorial on serialization in Django Rest Framework\n",
    "\n",
    "In [his blog post](https://www.caktusgroup.com/blog/2019/02/01/creating-api-endpoint-django-rest-framework/),\n",
    "my colleague Dmitriy gave a good example of starting to use Django Rest Framework (DRF) with Django models.\n",
    "\n",
    "Now you might want to start learning more about DRF from its documentation. I\n",
    "found that just starting with the documentation was rather challenging for me,\n",
    "as there were some basic concepts assumed that I wasn't aware of. I thought in\n",
    "this post, I'd go over some of them. Then I found I was getting deeper and\n",
    "deeper into serialization, so this has ended up being all about serialization.\n",
    "\n",
    "And to state some of my own assumptions up front: for this post, I'll be\n",
    "assuming an API that uses JSON to transport data.\n",
    "\n",
    "(If you've seen the\n",
    "[first Tutorial on the DRF site](https://www.django-rest-framework.org/tutorial/1-serialization/),\n",
    "there is some overlap in what this post covers, but then this post digs deeper\n",
    "into serialization while the DRF tutorial moves on to other aspects of building\n",
    "an API.)\n",
    "\n",
    "## Serialization\n",
    "\n",
    "In our Django application, we're working with Python objects, but for our\n",
    "API we want to use a format called JSON to transport information over the\n",
    "network. Serializing is the process of converting Python objects\n",
    "to JSON, and deserializing is the process of converting JSON to Python objects\n",
    "again.\n",
    "\n",
    "(It helps me to think of \"serializing\" as creating a \"serial\" stream of bytes\n",
    "that can flow over a network connection, and \"deserializing\" as consuming a\n",
    "serial stream of bytes and turning it into something more useful again.)\n",
    "\n",
    "In DRF, serialization and deserialization are handled by the same class.\n",
    "This kind of makes sense, give that you want deserialization to be the\n",
    "reverse of serialization, but it can also be confusing.\n",
    "\n",
    "It also turns out that writing a serializer class that can just serialize\n",
    "is pretty trivial, but when you start wanting it to deserialize, all sorts\n",
    "of complications appear.\n",
    "\n",
    "## Python class for examples\n",
    "\n",
    "I'll use this tiny Python class for my first examples::"
   ]
  },
  {
   "cell_type": "code",
   "execution_count": 1,
   "metadata": {},
   "outputs": [],
   "source": [
    "class Thing:\n",
    "    def __init__(self, id: int, b: str):\n",
    "        self.id = id\n",
    "        self.b = b\n",
    "\n",
    "    def __str__(self):\n",
    "        return '<Thing(%d, \"%s\")>' % (self.id, self.b)"
   ]
  },
  {
   "cell_type": "code",
   "execution_count": 2,
   "metadata": {},
   "outputs": [
    {
     "name": "stdout",
     "output_type": "stream",
     "text": [
      "<Thing(1, \"foo\")>\n"
     ]
    }
   ],
   "source": [
    "print(Thing(1, 'foo'))"
   ]
  },
  {
   "cell_type": "markdown",
   "metadata": {},
   "source": [
    "## How to serialize\n",
    "\n",
    "The serializer class for Thing can be pretty simple::"
   ]
  },
  {
   "cell_type": "code",
   "execution_count": 3,
   "metadata": {},
   "outputs": [],
   "source": [
    "from rest_framework import serializers\n",
    "\n",
    "class ThingSerializer(serializers.Serializer):\n",
    "    id = serializers.IntegerField()\n",
    "    b = serializers.CharField()"
   ]
  },
  {
   "cell_type": "markdown",
   "metadata": {},
   "source": [
    "Now suppose we want to use it to serialize something. In this case, we want to start with a Thing\n",
    "object, and end up with JSON.\n",
    "\n",
    "To do this, we construct an instance of ThingSerializer, passing in our Thing\n",
    "as the `instance` argument.\n",
    "Then we can get the serialized data from the `.data` property of the serializer.\n",
    "\n",
    "Example::"
   ]
  },
  {
   "cell_type": "code",
   "execution_count": 4,
   "metadata": {},
   "outputs": [
    {
     "name": "stdout",
     "output_type": "stream",
     "text": [
      "{'id': 1, 'b': 'foo'}\n"
     ]
    }
   ],
   "source": [
    "a_thing = Thing(1, 'foo')\n",
    "serializer = ThingSerializer(instance=a_thing)\n",
    "data = serializer.data\n",
    "print(data)"
   ]
  },
  {
   "cell_type": "markdown",
   "metadata": {},
   "source": [
    "There is no validation involved when serializing. It is assumed that the object\n",
    "you are going to serialize is valid, and up to you to ensure that before you try\n",
    "to serialize it.\n",
    "\n",
    "## How to deserialize\n",
    "\n",
    "If we have a serialized form of a Thing and we want to get a Thing object from\n",
    "it, we again use our ThingSerializer class, but in a different way.\n",
    "\n",
    "To do this, we construct an instance of ThingSerializer, passing in the serialized\n",
    "data as the `data` argument. Then we check the validity of the serialized data.\n",
    "If it's valid, then we can get the deserialized data from the `.validated_data`\n",
    "attribute.\n",
    "\n",
    "Example::"
   ]
  },
  {
   "cell_type": "code",
   "execution_count": 5,
   "metadata": {},
   "outputs": [
    {
     "name": "stdout",
     "output_type": "stream",
     "text": [
      "OrderedDict([('id', 1), ('b', 'foo')])\n"
     ]
    }
   ],
   "source": [
    "data = {'id': 1, 'b': 'foo'}\n",
    "serializer = ThingSerializer(data=data)\n",
    "serializer.is_valid(raise_exception=True)\n",
    "print(serializer.validated_data)"
   ]
  },
  {
   "cell_type": "markdown",
   "metadata": {},
   "source": [
    "It is important to notice that in this case, validation is mandatory. DRF\n",
    "won't let us do much until after we've called `.is_valid()`.\n",
    "\n",
    "But wait a minute. We ended up here with a dictionary exactly the same as we\n",
    "started with - weren't we expecting a Thing object? We were expecting that, but\n",
    "it'll take a little more work on our part to get there.\n",
    "\n",
    "For now, notice that what we got corresponds to how we defined the fields in\n",
    "our serializer. `id` was an IntegerSerializer field and we got an integer, while\n",
    "`b` was a CharSerializer field and we got a string. DRF has deserialized the\n",
    "fields for us individually. What's missing is\n",
    "putting all of them together into a Thing object, and DRF doesn't know how to\n",
    "do that yet. We'll have to add some code for it.\n",
    "\n",
    "How does it know\n",
    "----------------\n",
    "\n",
    "How does the serializer instance know whether it's supposed to serialize or\n",
    "deserialize? It's entirely based on what was passed in when it was constructed -\n",
    "if data was passed in, it will deserialize; otherwise, it will serialize.\n",
    "\n",
    "How this is used in an API\n",
    "--------------------------\n",
    "\n",
    "At a very high level, if an API client submits a GET request to our application,\n",
    "we'll end up finding the object they want, serializing it, and sending a response\n",
    "with the serialized data as its body.\n",
    "The URI path of the GET request tells us what kind of thing we want,\n",
    "and where to find it.\n",
    "\n",
    "Similarly, if an API client wants to create an object, it'll submit a POST request\n",
    "whose body contains the JSON data representing the object it wants to create.\n",
    "Our app will validate the data, deserialize it, and store the object.\n",
    "The URI path of the POST request tells us what kind of thing it is.\n",
    "\n",
    "And if an API client wants to change an existing object, it'll submit a PUT request,\n",
    "using the same URL it would use to GET the existing object, but the PUT will\n",
    "contain in its request body the serialized data for the updated object.\n",
    "\n",
    "An API client can even submit a PATCH request the same way, and only provide\n",
    "in the request body the data for the fields it wants to change. Other fields will\n",
    "be left unchanged.\n",
    "\n",
    "Let's go into a little more detail about how serializers are used when creating\n",
    "an object. DRF will handle a lot of this for us if we use its ModelSerializer and\n",
    "ViewSet classes, but it's good to understand this for writing serializer tests and\n",
    "to better understand what's happening when you start customizing serializers more.\n",
    "\n",
    "We'll need to expand our serializer class a bit, and when we're done, we will be\n",
    "able to get a Thing object from our serialized data. The updated class::"
   ]
  },
  {
   "cell_type": "code",
   "execution_count": 6,
   "metadata": {},
   "outputs": [],
   "source": [
    "from rest_framework import serializers\n",
    "\n",
    "class ThingSerializer(serializers.Serializer):\n",
    "    id = serializers.IntegerField()\n",
    "    b = serializers.CharField()\n",
    "\n",
    "    def create(self, validated_data):\n",
    "        return Thing(**validated_data)"
   ]
  },
  {
   "cell_type": "markdown",
   "metadata": {},
   "source": [
    "We added a `create` method, which is given the validated data,\n",
    "and must return the final Python object that corresponds to\n",
    "that data.\n",
    "\n",
    "If this was a Django application and Thing was a model, then `create`\n",
    "would also be expected to save the new Thing before returning.\n",
    "\n",
    "And here's how we use it to create a Thing::"
   ]
  },
  {
   "cell_type": "code",
   "execution_count": 7,
   "metadata": {},
   "outputs": [
    {
     "name": "stdout",
     "output_type": "stream",
     "text": [
      "<Thing(1, \"foo\")>\n"
     ]
    }
   ],
   "source": [
    "data = {'id': 1, 'b': 'foo'}\n",
    "serializer = ThingSerializer(data=data)\n",
    "serializer.is_valid(raise_exception=True)\n",
    "a_thing = serializer.save()\n",
    "print(str(a_thing))"
   ]
  },
  {
   "cell_type": "markdown",
   "metadata": {},
   "source": [
    "So the full process is to construct a serializer passing the data as the\n",
    "`data` argument, validate it, and call `save` to create and return the\n",
    "final, deserialized Python object.\n",
    "\n",
    "Changing an object\n",
    "------------------\n",
    "\n",
    "Let's see how we'd implement changing one of the fields on an existing Thing.\n",
    "\n",
    "The way an API client might do this is to GET a URI path that points\n",
    "to an existing Thing, change a value on its copy of the Thing, then\n",
    "make a PUT request, using the same URI path, and putting the serialized\n",
    "form of its edited Thing as the request body.\n",
    "\n",
    "I'm going to ignore the code that finds the existing Thing that the\n",
    "client is interested in. So here's how we might handle the\n",
    "PUT::"
   ]
  },
  {
   "cell_type": "code",
   "execution_count": 9,
   "metadata": {},
   "outputs": [
    {
     "ename": "NotImplementedError",
     "evalue": "`update()` must be implemented.",
     "output_type": "error",
     "traceback": [
      "\u001b[0;31m---------------------------------------------------------------------------\u001b[0m",
      "\u001b[0;31mNotImplementedError\u001b[0m                       Traceback (most recent call last)",
      "\u001b[0;32m<ipython-input-9-f1037dd81efe>\u001b[0m in \u001b[0;36m<module>\u001b[0;34m\u001b[0m\n\u001b[1;32m      3\u001b[0m \u001b[0mserializer\u001b[0m \u001b[0;34m=\u001b[0m \u001b[0mThingSerializer\u001b[0m\u001b[0;34m(\u001b[0m\u001b[0minstance\u001b[0m\u001b[0;34m=\u001b[0m\u001b[0mexisting_thing\u001b[0m\u001b[0;34m,\u001b[0m \u001b[0mdata\u001b[0m\u001b[0;34m=\u001b[0m\u001b[0mdata\u001b[0m\u001b[0;34m)\u001b[0m\u001b[0;34m\u001b[0m\u001b[0m\n\u001b[1;32m      4\u001b[0m \u001b[0mserializer\u001b[0m\u001b[0;34m.\u001b[0m\u001b[0mis_valid\u001b[0m\u001b[0;34m(\u001b[0m\u001b[0mraise_exception\u001b[0m\u001b[0;34m=\u001b[0m\u001b[0;32mTrue\u001b[0m\u001b[0;34m)\u001b[0m\u001b[0;34m\u001b[0m\u001b[0m\n\u001b[0;32m----> 5\u001b[0;31m \u001b[0mupdated_thing\u001b[0m \u001b[0;34m=\u001b[0m \u001b[0mserializer\u001b[0m\u001b[0;34m.\u001b[0m\u001b[0msave\u001b[0m\u001b[0;34m(\u001b[0m\u001b[0;34m)\u001b[0m\u001b[0;34m\u001b[0m\u001b[0m\n\u001b[0m",
      "\u001b[0;32m~/.virtualenvs/cheat/lib/python3.7/site-packages/rest_framework/serializers.py\u001b[0m in \u001b[0;36msave\u001b[0;34m(self, **kwargs)\u001b[0m\n\u001b[1;32m    207\u001b[0m \u001b[0;34m\u001b[0m\u001b[0m\n\u001b[1;32m    208\u001b[0m         \u001b[0;32mif\u001b[0m \u001b[0mself\u001b[0m\u001b[0;34m.\u001b[0m\u001b[0minstance\u001b[0m \u001b[0;32mis\u001b[0m \u001b[0;32mnot\u001b[0m \u001b[0;32mNone\u001b[0m\u001b[0;34m:\u001b[0m\u001b[0;34m\u001b[0m\u001b[0m\n\u001b[0;32m--> 209\u001b[0;31m             \u001b[0mself\u001b[0m\u001b[0;34m.\u001b[0m\u001b[0minstance\u001b[0m \u001b[0;34m=\u001b[0m \u001b[0mself\u001b[0m\u001b[0;34m.\u001b[0m\u001b[0mupdate\u001b[0m\u001b[0;34m(\u001b[0m\u001b[0mself\u001b[0m\u001b[0;34m.\u001b[0m\u001b[0minstance\u001b[0m\u001b[0;34m,\u001b[0m \u001b[0mvalidated_data\u001b[0m\u001b[0;34m)\u001b[0m\u001b[0;34m\u001b[0m\u001b[0m\n\u001b[0m\u001b[1;32m    210\u001b[0m             assert self.instance is not None, (\n\u001b[1;32m    211\u001b[0m                 \u001b[0;34m'`update()` did not return an object instance.'\u001b[0m\u001b[0;34m\u001b[0m\u001b[0m\n",
      "\u001b[0;32m~/.virtualenvs/cheat/lib/python3.7/site-packages/rest_framework/serializers.py\u001b[0m in \u001b[0;36mupdate\u001b[0;34m(self, instance, validated_data)\u001b[0m\n\u001b[1;32m    164\u001b[0m \u001b[0;34m\u001b[0m\u001b[0m\n\u001b[1;32m    165\u001b[0m     \u001b[0;32mdef\u001b[0m \u001b[0mupdate\u001b[0m\u001b[0;34m(\u001b[0m\u001b[0mself\u001b[0m\u001b[0;34m,\u001b[0m \u001b[0minstance\u001b[0m\u001b[0;34m,\u001b[0m \u001b[0mvalidated_data\u001b[0m\u001b[0;34m)\u001b[0m\u001b[0;34m:\u001b[0m\u001b[0;34m\u001b[0m\u001b[0m\n\u001b[0;32m--> 166\u001b[0;31m         \u001b[0;32mraise\u001b[0m \u001b[0mNotImplementedError\u001b[0m\u001b[0;34m(\u001b[0m\u001b[0;34m'`update()` must be implemented.'\u001b[0m\u001b[0;34m)\u001b[0m\u001b[0;34m\u001b[0m\u001b[0m\n\u001b[0m\u001b[1;32m    167\u001b[0m \u001b[0;34m\u001b[0m\u001b[0m\n\u001b[1;32m    168\u001b[0m     \u001b[0;32mdef\u001b[0m \u001b[0mcreate\u001b[0m\u001b[0;34m(\u001b[0m\u001b[0mself\u001b[0m\u001b[0;34m,\u001b[0m \u001b[0mvalidated_data\u001b[0m\u001b[0;34m)\u001b[0m\u001b[0;34m:\u001b[0m\u001b[0;34m\u001b[0m\u001b[0m\n",
      "\u001b[0;31mNotImplementedError\u001b[0m: `update()` must be implemented."
     ]
    }
   ],
   "source": [
    "existing_thing = Thing(27, 'three')\n",
    "data = {'id': 13, 'b': 'three'}\n",
    "serializer = ThingSerializer(instance=existing_thing, data=data)\n",
    "serializer.is_valid(raise_exception=True)\n",
    "updated_thing = serializer.save()"
   ]
  },
  {
   "cell_type": "markdown",
   "metadata": {},
   "source": [
    "Notice that this time, we passed *both* an instance and some serialized data\n",
    "to our serializer constructor. This tells it that we want to make changes to\n",
    "the instance based on the serialized data.\n",
    "\n",
    "When we tried to run this, we got an error::\n",
    "\n",
    "    NotImplementedError: `update()` must be implemented.\n",
    "\n",
    "Like `create`, we have to write our own `update` method.::"
   ]
  },
  {
   "cell_type": "code",
   "execution_count": 10,
   "metadata": {},
   "outputs": [],
   "source": [
    "from rest_framework import serializers\n",
    "\n",
    "class ThingSerializer(serializers.Serializer):\n",
    "    id = serializers.IntegerField()\n",
    "    b = serializers.CharField()\n",
    "\n",
    "    def create(self, validated_data):\n",
    "        return Thing(**validated_data)\n",
    "\n",
    "    def update(self, instance, validated_data):\n",
    "        thing = instance\n",
    "        thing.id = validated_data['id']\n",
    "        thing.b = validated_data['b']\n",
    "        return thing"
   ]
  },
  {
   "cell_type": "markdown",
   "metadata": {},
   "source": [
    "DRF passes the validated data to our `update` method, the same as it\n",
    "does for our `create` method, along with the original object.\n",
    "Our `update` method must make changes to the original\n",
    "object, then return it.\n",
    "\n",
    "If this was a Django application and Thing was a model, then `update`\n",
    "would also be expected to save the updated Thing before returning.\n",
    "\n",
    "Trying again::"
   ]
  },
  {
   "cell_type": "code",
   "execution_count": 11,
   "metadata": {},
   "outputs": [
    {
     "name": "stdout",
     "output_type": "stream",
     "text": [
      "<Thing(13, \"three\")>\n"
     ]
    }
   ],
   "source": [
    "existing_thing = Thing(27, 'three')\n",
    "data = {'id': 13, 'b': 'three'}\n",
    "serializer = ThingSerializer(instance=existing_thing, data=data)\n",
    "serializer.is_valid(raise_exception=True)\n",
    "updated_thing = serializer.save()\n",
    "print(str(updated_thing))"
   ]
  },
  {
   "cell_type": "markdown",
   "metadata": {},
   "source": [
    "We've changed the value of Thing's `id` field from 27 to 13.\n",
    "\n",
    "Validation\n",
    "----------\n",
    "\n",
    "This is an area of DRF where I had to figure a lot out by trial and error.\n",
    "\n",
    "Keep in mind that validation only applies to deserializing.\n",
    "\n",
    "There are definite parallels between DRF validation and Django form validation.\n",
    "\n",
    "DRF's field validation\n",
    "......................\n",
    "\n",
    "The first thing that DRF does is validate the input data for each field defined\n",
    "on the serializer. Any additional input data is simply ignored.\n",
    "\n",
    "Some of this is really obvious, such as providing a string as\n",
    "the value for an IntegerField is not valid.\n",
    "\n",
    "If the data passes validation, then `validated_data`, and the data passed\n",
    "to `create` and `update`, will be a dictionary with a key for each field\n",
    "defined on the serializer, whose value is the serialized data for that field.\n",
    "\n",
    "*Note* this is a difference from Django forms. Part of Django form validation\n",
    "is to convert the input data from the form into corresponding Python data\n",
    "types, but DRF does not do this during validation.\n",
    "\n",
    "Starting to nest\n",
    "----------------\n",
    "\n",
    "Where I really start to get confused in DRF is when we have nested objects.\n",
    "Let's add another class to our example application::"
   ]
  },
  {
   "cell_type": "code",
   "execution_count": 16,
   "metadata": {},
   "outputs": [],
   "source": [
    "class Box:\n",
    "    def __init__(self, id: int, thing: Thing):\n",
    "       self.id = id\n",
    "       self.thing = thing\n",
    "\n",
    "    def __str__(self):\n",
    "       return '<Box(%d, \"%s\")>' % (self.id, self.thing)"
   ]
  },
  {
   "cell_type": "markdown",
   "metadata": {},
   "source": [
    "The Box class has an identifier and a reference to a Thing.\n",
    "\n",
    "A basic serializer for a Box might look like this::"
   ]
  },
  {
   "cell_type": "code",
   "execution_count": 17,
   "metadata": {},
   "outputs": [],
   "source": [
    "from rest_framework import serializers\n",
    "\n",
    "class BoxSerializer(serializers.Serializer):\n",
    "    id = serializers.IntegerField()\n",
    "    thing = ThingSerializer()"
   ]
  },
  {
   "cell_type": "markdown",
   "metadata": {},
   "source": [
    "Notice that we are using the ThingSerializer we already defined as a field\n",
    "in our new serializer.\n",
    "\n",
    "Let's make a Box and serialize it.::"
   ]
  },
  {
   "cell_type": "code",
   "execution_count": 18,
   "metadata": {},
   "outputs": [
    {
     "name": "stdout",
     "output_type": "stream",
     "text": [
      "{'id': 2, 'thing': OrderedDict([('id', 5), ('b', 'drf')])}\n"
     ]
    }
   ],
   "source": [
    "box = Box(2, Thing(5, 'drf'))\n",
    "serializer = BoxSerializer(instance=box)\n",
    "data = serializer.data\n",
    "print(data)"
   ]
  },
  {
   "cell_type": "markdown",
   "metadata": {},
   "source": [
    "DRF uses an OrderedDict rather than a normal dict to serialize our\n",
    "Thing for some reason, but otherwise, this looks about as we'd expect.\n",
    "(`OrderedDict([('a', 5), ('b', 'drf')])` is basically `{'a': 5, 'b': 'drf'}`.)\n",
    "\n",
    "As I hinted earlier, serializing is pretty straightforward. What\n",
    "about deserializing? Let's add a `create` method::"
   ]
  },
  {
   "cell_type": "code",
   "execution_count": 19,
   "metadata": {},
   "outputs": [],
   "source": [
    "class BoxSerializer(serializers.Serializer):\n",
    "    id = serializers.IntegerField()\n",
    "    thing = ThingSerializer()\n",
    "\n",
    "    def create(self, validated_data):\n",
    "       return Box(**validated_data)"
   ]
  },
  {
   "cell_type": "markdown",
   "metadata": {},
   "source": [
    "######## IS THAT RIGHT? OR DO WE NEED TO DEAL WITH A SEMI-DESERIALIZED THING? #########\n",
    "\n",
    "That looks pretty simple, actually.\n",
    "\n",
    "The thing is, fetching and creating objects will only take us so far.\n",
    "Pretty soon, we'll want to make changes to existing objects.\n",
    "\n",
    "Representing nested objects\n",
    "---------------------------\n",
    "\n",
    "Earlier, I skimmed over something that we should think about now.\n",
    "That is, there are multiple ways we could serialize nested objects.\n",
    "The way we wrote our serializer, we represent the `thing` field's\n",
    "value by a fully serialized Thing. But we could just as well have\n",
    "used anything that would identify for us which Thing our Box is\n",
    "pointing at. In a Django app, we might choose to use a record's `id`\n",
    "rather than serializing the entire record.\n",
    "\n",
    "Let's write an alternative serializer for our Box class that takes\n",
    "that approach. Starting off::"
   ]
  },
  {
   "cell_type": "code",
   "execution_count": 20,
   "metadata": {},
   "outputs": [],
   "source": [
    "class BoxSerializer2(serializers.Serializer):\n",
    "    id = serializers.IntegerField()\n",
    "    thing = serializers.IntegerField(source='thing.id')\n"
   ]
  },
  {
   "cell_type": "markdown",
   "metadata": {},
   "source": [
    "We're just going to \"serialize\" the Thing using the value of its\n",
    "`id` field. DRF has built-in support for this sort of thing, so we\n",
    "can just add the `source` parameter to our serializer arguments.\n",
    "Let's see what we get::"
   ]
  },
  {
   "cell_type": "code",
   "execution_count": 21,
   "metadata": {},
   "outputs": [
    {
     "name": "stdout",
     "output_type": "stream",
     "text": [
      "{'id': 2, 'thing': 5}\n"
     ]
    }
   ],
   "source": [
    "box = Box(2, Thing(5, 'drf'))\n",
    "serializer = BoxSerializer2(instance=box)\n",
    "data = serializer.data\n",
    "print(data)"
   ]
  },
  {
   "cell_type": "markdown",
   "metadata": {},
   "source": [
    "Perfect!\n",
    "\n",
    "Deserializing gets more complicated. When we get a `5` in our data,\n",
    "we want to find the existing Thing where `id = 5` and use that instead.\n",
    "\n",
    "We can start with creating new Boxes, but before we write `create`, we\n",
    "need to know what's going to be in `validated_data` when we get it.\n",
    "DRF is going to do the best it can to deserialize the individual\n",
    "fields before passing them to us. For `thing`, it will actually\n",
    "create a dictionary with an `id` field equal to the value it got\n",
    "for `thing`::"
   ]
  },
  {
   "cell_type": "code",
   "execution_count": 22,
   "metadata": {},
   "outputs": [
    {
     "data": {
      "text/plain": [
       "{'id': 2, 'thing': {'id': 5}}"
      ]
     },
     "execution_count": 22,
     "metadata": {},
     "output_type": "execute_result"
    }
   ],
   "source": [
    "{'id': 2, 'thing': {'id': 5}}"
   ]
  },
  {
   "cell_type": "markdown",
   "metadata": {},
   "source": [
    "Knowing that, we can write `create`::"
   ]
  },
  {
   "cell_type": "code",
   "execution_count": 29,
   "metadata": {},
   "outputs": [],
   "source": [
    "def get_existing_thing(id: int) -> Thing:\n",
    "    \"\"\"Dummy 'get_existing_thing' method.\"\"\"\n",
    "    return Thing(id, 'existing')\n",
    "\n",
    "class BoxSerializer2(serializers.Serializer):\n",
    "    id = serializers.IntegerField()\n",
    "    thing = serializers.IntegerField(source='thing.id')\n",
    "\n",
    "    def create(self, validated_data):\n",
    "        thing = get_existing_thing(id=validated_data['thing']['id'])\n",
    "        return Box(id=validated_data['id'], thing=thing)"
   ]
  },
  {
   "cell_type": "markdown",
   "metadata": {},
   "source": [
    "We're assuming some method `get_existing_thing(id=...)` does the heavy\n",
    "lifting in finding an existing Thing for us.\n",
    "\n",
    "Trying it out in a simpler way::"
   ]
  },
  {
   "cell_type": "code",
   "execution_count": 30,
   "metadata": {},
   "outputs": [
    {
     "name": "stdout",
     "output_type": "stream",
     "text": [
      "<Box(2, \"<Thing(5, \"existing\")>\")>\n"
     ]
    }
   ],
   "source": [
    "data = {'id': 2, 'thing': 5}\n",
    "serializer = BoxSerializer2(data=data)\n",
    "serializer.is_valid(raise_exception=True)\n",
    "box = serializer.save()\n",
    "print(str(box))"
   ]
  },
  {
   "cell_type": "markdown",
   "metadata": {},
   "source": [
    "We can see that where the serialized data had `thing = 5`, we ended\n",
    "up with the Thing object with `id = 5`, as we wanted.\n",
    "\n",
    "Continuing with serializing the `thing` field of our Box as just\n",
    "the `id` value of our `Thing`, what if we want to update our Box?\n",
    "Keeping in mind that all we can really update this way\n",
    "is which Thing our box is pointing at, we need to add\n",
    "an ``update`` method to our serializer again::"
   ]
  },
  {
   "cell_type": "code",
   "execution_count": 37,
   "metadata": {},
   "outputs": [],
   "source": [
    "class BoxSerializer2(serializers.Serializer):\n",
    "    id = serializers.IntegerField()\n",
    "    thing = serializers.IntegerField(source='thing.id')\n",
    "\n",
    "    def create(self, validated_data):\n",
    "        thing = get_existing_thing(id=validated_data['thing']['id'])\n",
    "        return Box(id=validated_data['id'], thing=thing)\n",
    "\n",
    "    def update(self, instance, validated_data):\n",
    "        instance.id = validated_data['id']\n",
    "        instance.thing = get_existing_thing(id=validated_data['thing']['id'])\n",
    "        return instance\n"
   ]
  },
  {
   "cell_type": "markdown",
   "metadata": {},
   "source": [
    "\n",
    "Let's try it out::\n",
    "\n"
   ]
  },
  {
   "cell_type": "code",
   "execution_count": 38,
   "metadata": {},
   "outputs": [
    {
     "name": "stdout",
     "output_type": "stream",
     "text": [
      "<Box(3, \"<Thing(1, \"thing1\")>\")>\n",
      "<Box(3, \"<Thing(2, \"existing\")>\")>\n"
     ]
    }
   ],
   "source": [
    "thing1 = Thing(1, \"thing1\")\n",
    "thing2 = Thing(2, \"thing2\")\n",
    "box = Box(3, thing1)\n",
    "print(str(box))\n",
    "\n",
    "data = {'id': 3, 'thing': 2}\n",
    "serializer = BoxSerializer2(instance=box, data=data)\n",
    "serializer.is_valid(raise_exception=True)\n",
    "box = serializer.save()\n",
    "print(str(box))\n"
   ]
  },
  {
   "cell_type": "markdown",
   "metadata": {},
   "source": [
    "We can see that the box was changed to point at a different Thing.\n",
    "\n",
    "Actual nesting\n",
    "--------------\n",
    "\n",
    "What we've done so far isn't so much nested serialized objects as replacing an\n",
    "object with an integer that identifies the object. This is sufficient - our client\n",
    "can always make a second call to get the details of the Thing whose `id` is 5 - but\n",
    "for greater convenience, we might want to return the details of the Thing as part\n",
    "of the serialized Box. As you can probably guess, we can do that.\n",
    "\n",
    "Let's write a new serializer, BoxSerializer3, that does that::\n"
   ]
  },
  {
   "cell_type": "code",
   "execution_count": 40,
   "metadata": {},
   "outputs": [
    {
     "name": "stdout",
     "output_type": "stream",
     "text": [
      "{'id': 3, 'thing': OrderedDict([('id', 7), ('b', 'seven')])}\n"
     ]
    }
   ],
   "source": [
    "class BoxSerializer3(serializers.Serializer):\n",
    "    id = serializers.IntegerField()\n",
    "    thing = ThingSerializer()\n",
    "\n",
    "thing = Thing(7, \"seven\")\n",
    "box = Box(3, thing)\n",
    "data = BoxSerializer3(instance=box).data\n",
    "print(data)"
   ]
  },
  {
   "cell_type": "markdown",
   "metadata": {},
   "source": [
    "NOW:\n",
    "- how does DRF validate the new field itself?\n",
    "- what gets passed to 'validate'\n",
    "- what gets passed to 'create'/'update'?\n"
   ]
  }
 ],
 "metadata": {
  "kernelspec": {
   "display_name": "Python 3",
   "language": "python",
   "name": "python3"
  },
  "language_info": {
   "codemirror_mode": {
    "name": "ipython",
    "version": 3
   },
   "file_extension": ".py",
   "mimetype": "text/x-python",
   "name": "python",
   "nbconvert_exporter": "python",
   "pygments_lexer": "ipython3",
   "version": "3.7.0"
  }
 },
 "nbformat": 4,
 "nbformat_minor": 2
}
