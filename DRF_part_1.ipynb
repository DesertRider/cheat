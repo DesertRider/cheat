{
 "cells": [
  {
   "cell_type": "markdown",
   "metadata": {},
   "source": [
    "# Tutorial on serialization in Django Rest Framework\n",
    "\n",
    "In [his blog post](https://www.caktusgroup.com/blog/2019/02/01/creating-api-endpoint-django-rest-framework/),\n",
    "my colleague Dmitriy gave a good example of starting to use \n",
    "[Django Rest Framework](https://www.django-rest-framework.org/) (DRF) with Django models.\n",
    "\n",
    "Now you might want to start learning more about DRF from its documentation. I\n",
    "found that just starting with the documentation was rather challenging for me,\n",
    "as there were some basic concepts assumed that I wasn't aware of. I thought in\n",
    "this post, I'd go over some of them. Then I found I was getting deeper and\n",
    "deeper into serialization, so this has ended up being all about serialization.\n",
    "\n",
    "And to state some of my own assumptions up front: for this post, I'll be\n",
    "assuming an API that uses JSON to transport data, and Python 3.\n",
    "\n",
    "(If you've seen the\n",
    "[first Tutorial on the DRF site](https://www.django-rest-framework.org/tutorial/1-serialization/),\n",
    "there is some overlap in what this post covers, but then this post digs deeper\n",
    "into serialization while the DRF tutorial moves on to other aspects of building\n",
    "an API.)\n",
    "\n",
    "## Serialization\n",
    "\n",
    "In our Django application, we're working with Python objects, but for our\n",
    "API we want to use a format called JSON to transport information over the\n",
    "network. Serializing is the process of converting Python objects\n",
    "to JSON, and deserializing is the process of converting JSON to Python objects\n",
    "again.\n",
    "\n",
    "(It helps me to think of \"serializing\" as creating a \"serial\" stream of bytes\n",
    "that can flow over a network connection, and \"deserializing\" as consuming a\n",
    "serial stream of bytes and turning it into something more useful again.)\n",
    "\n",
    "In DRF, serialization and deserialization are handled by the same class.\n",
    "This kind of makes sense, give that you want deserialization to be the\n",
    "reverse of serialization, but it can also be confusing.\n",
    "\n",
    "It also turns out that writing a serializer class that can just serialize\n",
    "is pretty trivial, but when you start wanting it to deserialize, all sorts\n",
    "of complications appear."
   ]
  },
  {
   "cell_type": "markdown",
   "metadata": {},
   "source": [
    "## Minimal Django environment\n",
    "\n",
    "While I won't be doing much with Django directly in this post, Django Rest Framework does assume that it's running in a configured Django environment and without it, useful things like error messages don't work. \n",
    "\n",
    "The following snippet at the top of a file will set up a very minimal Django environment, enough for us to experiment with DRF without having to set up a complete Django project. This is adapted from [_Lightweight Django_](http://shop.oreilly.com/product/0636920032502.do), by Julia Elman and Mark Lavin\n",
    "(both past co-workers of mine), O'Reilly, 2014."
   ]
  },
  {
   "cell_type": "code",
   "execution_count": 25,
   "metadata": {},
   "outputs": [],
   "source": [
    "from django.apps import apps\n",
    "from django.conf import settings\n",
    "\n",
    "if not settings.configured:\n",
    "    settings.configure(\n",
    "     DEBUG=True,\n",
    "     SECRET_KEY='thisisthesecretkey',\n",
    "     #ROOT_URLCONF=__name__,\n",
    "     MIDDLEWARE_CLASSES=(\n",
    "     'django.middleware.common.CommonMiddleware',\n",
    "     'django.middleware.csrf.CsrfViewMiddleware',\n",
    "     'django.middleware.clickjacking.XFrameOptionsMiddleware',\n",
    "     ),\n",
    "    )\n",
    "apps.populate([])"
   ]
  },
  {
   "cell_type": "markdown",
   "metadata": {},
   "source": [
    "## Python class for examples\n",
    "\n",
    "I'll use this tiny Python class for my first examples:"
   ]
  },
  {
   "cell_type": "code",
   "execution_count": 2,
   "metadata": {},
   "outputs": [],
   "source": [
    "from dataclasses import dataclass\n",
    "\n",
    "@dataclass\n",
    "class Thing:\n",
    "    id: int\n",
    "    b: str\n",
    "\n",
    "    def __str__(self):\n",
    "        return '<Thing(%d, \"%s\")>' % (self.id, self.b)"
   ]
  },
  {
   "cell_type": "markdown",
   "metadata": {},
   "source": [
    "## How to serialize\n",
    "\n",
    "The serializer class for Thing can be pretty simple."
   ]
  },
  {
   "cell_type": "code",
   "execution_count": 3,
   "metadata": {},
   "outputs": [],
   "source": [
    "from rest_framework import serializers\n",
    "\n",
    "class ThingSerializer(serializers.Serializer):\n",
    "    id = serializers.IntegerField()\n",
    "    b = serializers.CharField()"
   ]
  },
  {
   "cell_type": "markdown",
   "metadata": {},
   "source": [
    "Now suppose we want to use it to serialize something. In this case, we want to start with a Thing\n",
    "object, and end up with JSON.\n",
    "\n",
    "To do this, we construct an instance of ThingSerializer, passing in our Thing\n",
    "as the `instance` argument.\n",
    "Then we can get the serialized data from the `.data` property of the serializer.\n",
    "\n",
    "Example:"
   ]
  },
  {
   "cell_type": "code",
   "execution_count": 4,
   "metadata": {},
   "outputs": [
    {
     "name": "stdout",
     "output_type": "stream",
     "text": [
      "{'id': 1, 'b': 'foo'}\n"
     ]
    }
   ],
   "source": [
    "a_thing = Thing(1, 'foo')\n",
    "serializer = ThingSerializer(instance=a_thing)\n",
    "data = serializer.data\n",
    "print(data)"
   ]
  },
  {
   "cell_type": "markdown",
   "metadata": {},
   "source": [
    "The output of a DRF serializer is actually not quite serialized bytes yet, but a Python object ready to be rendered\n",
    "as JSON, or if you like, YAML, XML, and many other options. Let's see that last step, though we'll omit it in most of our examples.  We do this by using a [DRF Renderer](https://www.django-rest-framework.org/api-guide/renderers/)."
   ]
  },
  {
   "cell_type": "code",
   "execution_count": 5,
   "metadata": {},
   "outputs": [
    {
     "name": "stdout",
     "output_type": "stream",
     "text": [
      "b'{\"id\":1,\"b\":\"foo\"}'\n"
     ]
    }
   ],
   "source": [
    "from rest_framework import renderers\n",
    "\n",
    "renderer = renderers.JSONRenderer()\n",
    "\n",
    "print(renderer.render(data))"
   ]
  },
  {
   "cell_type": "markdown",
   "metadata": {},
   "source": [
    "Now we have raw bytes, ready to be sent over a TCP connection, saved to a file, or whater\n",
    "you need. If we had non-ASCII text in our data, it would now be encoded, using UTF-8 by default.\n",
    "\n",
    "Note that there is no validation involved when serializing. It is assumed that the object\n",
    "you are going to serialize is valid, and up to you to ensure that before you try\n",
    "to serialize it.\n",
    "\n",
    "## How to deserialize\n",
    "\n",
    "If we have a serialized form of a Thing and we want to get a Thing object from\n",
    "it, we again use our ThingSerializer class, but in a different way.\n",
    "\n",
    "To do this, we construct an instance of ThingSerializer, passing in the serialized\n",
    "data as the `data` argument. Then we check the validity of the serialized data using `.is_valid()`.\n",
    "If it's valid, then we can get the deserialized data from the `.validated_data`\n",
    "attribute.\n",
    "\n",
    "Here's an example, in which we start from raw bytes, parse them from JSON\n",
    "using a [DRF Parser](https://www.django-rest-framework.org/api-guide/parsers/), \n",
    "and deserialize them."
   ]
  },
  {
   "cell_type": "code",
   "execution_count": 6,
   "metadata": {},
   "outputs": [
    {
     "name": "stdout",
     "output_type": "stream",
     "text": [
      "{'id': 1, 'b': 'foo'}\n",
      "OrderedDict([('id', 1), ('b', 'foo')])\n"
     ]
    }
   ],
   "source": [
    "from io import BytesIO\n",
    "from rest_framework import parsers\n",
    "parser = parsers.JSONParser()\n",
    "\n",
    "bits = b'{\"id\": 1, \"b\": \"foo\"}'\n",
    "data = parser.parse(BytesIO(bits))\n",
    "print(data)\n",
    "\n",
    "serializer = ThingSerializer(data=data)\n",
    "serializer.is_valid(raise_exception=True)\n",
    "print(serializer.validated_data)"
   ]
  },
  {
   "cell_type": "markdown",
   "metadata": {},
   "source": [
    "It is important to notice that in this case, validation is mandatory. DRF\n",
    "won't let us do much until after we've called `.is_valid()`.\n",
    "\n",
    "Also note that in this case, the serializer returned an `OrderedDict` instead\n",
    "of a plain dictionary. This lets us know the order of the fields in the\n",
    "original serialized data, in case that's important to us.  Although it's moot\n",
    "in this case, since ordering is not (supposed to be) significant in JSON and\n",
    "the JSON parser does *not* preserve ordering, so we end up just passing an ordinary\n",
    "dict to the serializer. Still, the serializer preserves\n",
    "ordering itself, in case it was significant. From here on, we'll just consider\n",
    "an OrderedDict the equivalent of a dict in our examples.\n",
    "\n",
    "But wait a minute. We ended up here with basically the same dictionary that we\n",
    "started with. We were expecting a Thing object, but\n",
    "it'll take a little more work on our part to get there.\n",
    "\n",
    "For now, notice that what we got corresponds to how we defined the fields in\n",
    "our serializer. `id` was an IntegerSerializer field and we got an integer, while\n",
    "`b` was a CharSerializer field and we got a string. DRF has deserialized the\n",
    "fields for us individually. What's missing is\n",
    "putting all of them together into a Thing object, and DRF doesn't know how to\n",
    "do that yet. We'll have to add some code for it.\n",
    "\n",
    "## How does it know\n",
    "\n",
    "How does the serializer instance know whether it's supposed to serialize or\n",
    "deserialize? It's entirely based on what was passed in when it was constructed -\n",
    "if data was passed in, it will deserialize; otherwise, it will serialize.\n",
    "(It's also possible to pass in both data and an instance of an object if we\n",
    "want to update an existing object. We'll get to that.)\n",
    "\n",
    "## How this is used in an API\n",
    "\n",
    "At a very high level, if an API client submits a GET request to our application,\n",
    "we'll end up finding the object they want, serializing it, and sending a response\n",
    "with the serialized data as its body.\n",
    "The URI path of the GET request tells us what kind of thing we want,\n",
    "and where to find it.\n",
    "\n",
    "Similarly, if an API client wants to create an object, it'll submit a POST request\n",
    "whose body contains the JSON data representing the object it wants to create.\n",
    "Our app will validate the data, deserialize it, and store the object.\n",
    "The URI path of the POST request tells us what kind of thing it is.\n",
    "\n",
    "And if an API client wants to change an existing object, it'll submit a PUT request,\n",
    "using the same URL it would use to GET the existing object, but the PUT will\n",
    "contain in its request body the serialized data for the updated object.\n",
    "\n",
    "An API client can even submit a PATCH request the same way, and only provide\n",
    "in the request body the data for the fields it wants to change. Other fields will\n",
    "be left unchanged.\n",
    "\n",
    "## Creating a new object\n",
    "\n",
    "Let's go into a little more detail about how serializers are used when creating\n",
    "an object. DRF will handle a lot of this for us if we use its ModelSerializer and\n",
    "ViewSet classes, but it's good to understand this for writing serializer tests and\n",
    "to better understand what's happening when you start customizing serializers more.\n",
    "\n",
    "We'll need to expand our serializer class a bit, and when we're done, we will be\n",
    "able to get a Thing object from our serialized data. \n",
    "\n",
    "The updated class:"
   ]
  },
  {
   "cell_type": "code",
   "execution_count": 7,
   "metadata": {},
   "outputs": [],
   "source": [
    "from rest_framework import serializers\n",
    "\n",
    "class ThingSerializer(serializers.Serializer):\n",
    "    id = serializers.IntegerField()\n",
    "    b = serializers.CharField()\n",
    "\n",
    "    def create(self, validated_data):\n",
    "        return Thing(**validated_data)"
   ]
  },
  {
   "cell_type": "markdown",
   "metadata": {},
   "source": [
    "We added a `create` method, which is given the validated data,\n",
    "and must return the final Python object that corresponds to\n",
    "that data.\n",
    "\n",
    "If this was a Django application and Thing was a model, then `create`\n",
    "would also be expected to save the new Thing before returning.\n",
    "We might change `return Thing(**validated_data)` to\n",
    "`return Thing.objects.create(**validated_data)`\n",
    "\n",
    "And here's how we use it to create a Thing:"
   ]
  },
  {
   "cell_type": "code",
   "execution_count": 8,
   "metadata": {},
   "outputs": [
    {
     "name": "stdout",
     "output_type": "stream",
     "text": [
      "<Thing(1, \"foo\")>\n"
     ]
    }
   ],
   "source": [
    "data = {'id': 1, 'b': 'foo'}\n",
    "serializer = ThingSerializer(data=data)\n",
    "serializer.is_valid(raise_exception=True)\n",
    "a_thing = serializer.save()\n",
    "print(str(a_thing))"
   ]
  },
  {
   "cell_type": "markdown",
   "metadata": {},
   "source": [
    "So the full process is to construct a serializer passing the data as the\n",
    "`data` argument, validate it, and call `save` to create and return the\n",
    "final, deserialized Python object.\n",
    "\n",
    "But this is a bit too simple. Thinking about Django for a minute, when we create\n",
    "a new record, we don't provide the value for `id`; we expect the database to\n",
    "do that for us. But as we've written this, the API client must provide an `id`,\n",
    "and if we were storing these in a database, it'd probably be forced to figure out\n",
    "an `id` that's not already in use. We want this to work more like Django, so\n",
    "let's make a few more changes.\n",
    "\n",
    "First, we'll modify our example Thing class to behave a bit more as if it were\n",
    "a Django model, generating its own `id` value if one is not provided:"
   ]
  },
  {
   "cell_type": "code",
   "execution_count": 9,
   "metadata": {},
   "outputs": [],
   "source": [
    "from dataclasses import field\n",
    "from random import randint\n",
    "\n",
    "def random_id():\n",
    "    return randint(1, 99999)\n",
    "\n",
    "@dataclass\n",
    "class Thing:\n",
    "    b: str\n",
    "    id: int = field(default_factory=random_id)\n",
    "\n",
    "    def __str__(self):\n",
    "        return '<Thing(%d, \"%s\")>' % (self.id, self.b)"
   ]
  },
  {
   "cell_type": "code",
   "execution_count": 10,
   "metadata": {},
   "outputs": [
    {
     "name": "stdout",
     "output_type": "stream",
     "text": [
      "<Thing(13240, \"test creating an id\")>\n"
     ]
    }
   ],
   "source": [
    "print(Thing(b='test creating an id'))"
   ]
  },
  {
   "cell_type": "markdown",
   "metadata": {},
   "source": [
    "Now, we'll modify our serializer."
   ]
  },
  {
   "cell_type": "code",
   "execution_count": 11,
   "metadata": {},
   "outputs": [],
   "source": [
    "class ThingSerializer(serializers.Serializer):\n",
    "    id = serializers.IntegerField(required=False)\n",
    "    b = serializers.CharField()\n",
    "\n",
    "    def validate_id(self, value):\n",
    "        # Are we trying to create a new thing?\n",
    "        if not self.instance and value:\n",
    "            raise serializers.ValidationError('Cannot specify id when creating new thing')\n",
    "        return value\n",
    "    \n",
    "    def create(self, validated_data):\n",
    "        return Thing(**validated_data)"
   ]
  },
  {
   "cell_type": "markdown",
   "metadata": {},
   "source": [
    "Let's try providing an id when we create a thing and see what happens:"
   ]
  },
  {
   "cell_type": "code",
   "execution_count": 12,
   "metadata": {},
   "outputs": [
    {
     "name": "stdout",
     "output_type": "stream",
     "text": [
      "Valid: False\n",
      "{'id': [ErrorDetail(string='Cannot specify id when creating new thing', code='invalid')]}\n"
     ]
    }
   ],
   "source": [
    "data = {'id': 1, 'b': 'bad data'}\n",
    "serializer = ThingSerializer(data=data)\n",
    "print(\"Valid: %s\" % serializer.is_valid())\n",
    "print(serializer.errors)"
   ]
  },
  {
   "cell_type": "markdown",
   "metadata": {},
   "source": [
    "Good, we get a ValidationError. Now, let's try it the right way."
   ]
  },
  {
   "cell_type": "code",
   "execution_count": 13,
   "metadata": {},
   "outputs": [
    {
     "name": "stdout",
     "output_type": "stream",
     "text": [
      "<Thing(55144, \"create a new thing with its own id\")>\n"
     ]
    }
   ],
   "source": [
    "data = {'b': 'create a new thing with its own id'}\n",
    "serializer = ThingSerializer(data=data)\n",
    "serializer.is_valid(raise_exception=True)\n",
    "thing = serializer.save()\n",
    "print(thing)"
   ]
  },
  {
   "cell_type": "markdown",
   "metadata": {},
   "source": [
    "If that seems like more work that we ought to have to do, it is.\n",
    "DRF provides a `ModelSerializer` variant of a serializer class that\n",
    "has most of this behavior built-in. But I think it's important to\n",
    "understand that this is going on \"behind the scenes\"."
   ]
  }
 ],
 "metadata": {
  "kernelspec": {
   "display_name": "Python 3",
   "language": "python",
   "name": "python3"
  },
  "language_info": {
   "codemirror_mode": {
    "name": "ipython",
    "version": 3
   },
   "file_extension": ".py",
   "mimetype": "text/x-python",
   "name": "python",
   "nbconvert_exporter": "python",
   "pygments_lexer": "ipython3",
   "version": "3.7.3"
  }
 },
 "nbformat": 4,
 "nbformat_minor": 2
}
