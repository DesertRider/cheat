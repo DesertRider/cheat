{
 "cells": [
  {
   "cell_type": "markdown",
   "metadata": {},
   "source": [
    "ADD INTRO"
   ]
  },
  {
   "cell_type": "markdown",
   "metadata": {},
   "source": [
    "Here's the bit of code from the first part that we need for the examples in this part to work. \n",
    "\n",
    "*We can edit this part out of the final post, but I need it here in my Jupyter notebook.*"
   ]
  },
  {
   "cell_type": "code",
   "execution_count": 9,
   "metadata": {
    "scrolled": true
   },
   "outputs": [],
   "source": [
    "from django.apps import apps\n",
    "from django.conf import settings\n",
    "if not settings.configured:\n",
    "    settings.configure(\n",
    "     DEBUG=True,\n",
    "     SECRET_KEY='thisisthesecretkey',\n",
    "     MIDDLEWARE_CLASSES=(\n",
    "     'django.middleware.common.CommonMiddleware',\n",
    "     'django.middleware.csrf.CsrfViewMiddleware',\n",
    "     'django.middleware.clickjacking.XFrameOptionsMiddleware',\n",
    "     ),\n",
    "    )\n",
    "apps.populate([])"
   ]
  },
  {
   "cell_type": "code",
   "execution_count": null,
   "metadata": {},
   "outputs": [],
   "source": [
    "from dataclasses import dataclass\n",
    "\n",
    "@dataclass\n",
    "class Thing:\n",
    "    id: int\n",
    "    b: str\n",
    "\n",
    "    def __str__(self):\n",
    "        return '<Thing(%d, \"%s\")>' % (self.id, self.b)"
   ]
  },
  {
   "cell_type": "markdown",
   "metadata": {},
   "source": [
    "Changing an object\n",
    "------------------\n",
    "\n",
    "Let's see how we'd implement changing one of the fields on an existing Thing.\n",
    "\n",
    "The way an API client might do this is to GET a URI path that points\n",
    "to an existing Thing, change a value on its copy of the Thing, then\n",
    "make a PUT request, using the same URI path, and putting the serialized\n",
    "form of its edited Thing as the request body.\n",
    "\n",
    "Here's how we might handle the PUT (ignoring for now the problem of\n",
    "finding the existing thing to modify). Like `create`, we have to write our own `update` method.\n",
    "Then we can pass both an instance and a data object to the serializer, and\n",
    "saving will update the instance using the data by calling our\n",
    "`update` method."
   ]
  },
  {
   "cell_type": "code",
   "execution_count": null,
   "metadata": {},
   "outputs": [],
   "source": [
    "from rest_framework import serializers\n",
    "\n",
    "class ThingSerializer(serializers.Serializer):\n",
    "    id = serializers.IntegerField(required=False)\n",
    "    b = serializers.CharField()\n",
    "\n",
    "    def validate_id(self, value):\n",
    "        # Are we trying to create a new thing?\n",
    "        if not self.instance and value:\n",
    "            raise serializers.ValidationError('Cannot specify id when creating new thing')\n",
    "        return value\n",
    "\n",
    "    def create(self, validated_data):\n",
    "        return Thing(**validated_data)\n",
    "\n",
    "    def update(self, instance, validated_data):\n",
    "        thing = instance\n",
    "        thing.__dict__.update(validated_data)\n",
    "        return thing"
   ]
  },
  {
   "cell_type": "code",
   "execution_count": null,
   "metadata": {},
   "outputs": [],
   "source": [
    "existing_thing = Thing(id=27, b='three')\n",
    "data = {'id': 13, 'b': 'three'}\n",
    "serializer = ThingSerializer(instance=existing_thing, data=data)\n",
    "serializer.is_valid(raise_exception=True)\n",
    "updated_thing = serializer.save()\n",
    "print(str(updated_thing))"
   ]
  },
  {
   "cell_type": "markdown",
   "metadata": {},
   "source": [
    "DRF passes the validated data to our `update` method, the same as it\n",
    "does for our `create` method, along with the original object.\n",
    "Our `update` method must make changes to the original\n",
    "object, then return it.\n",
    "\n",
    "But again, this is too simple. If we pass an `id` value as part of\n",
    "our data, it will happily change the `id` on our Thing. If this were\n",
    "a Django model, that would not be what we'd want. So on update, it\n",
    "turns out we also want to prohibit passing a value in our data for\n",
    "`id`:"
   ]
  },
  {
   "cell_type": "code",
   "execution_count": null,
   "metadata": {},
   "outputs": [],
   "source": [
    "from rest_framework import serializers\n",
    "\n",
    "class ThingSerializer(serializers.Serializer):\n",
    "    id = serializers.IntegerField(required=False)\n",
    "    b = serializers.CharField()\n",
    "\n",
    "    def validate_id(self, value):\n",
    "        # Are we trying to create a new thing?\n",
    "        if not self.instance and value:\n",
    "            raise serializers.ValidationError('Cannot specify id when creating new thing')\n",
    "        # Are we trying to update an existing thing?\n",
    "        if self.instance and value:\n",
    "            raise serializers.ValidationError('Cannot specify id when updating a thing')\n",
    "        return value\n",
    "\n",
    "    def create(self, validated_data):\n",
    "        return Thing(**validated_data)\n",
    "\n",
    "    def update(self, instance, validated_data):\n",
    "        thing = instance\n",
    "        thing.__dict__.update(validated_data)\n",
    "        return thing"
   ]
  },
  {
   "cell_type": "code",
   "execution_count": null,
   "metadata": {},
   "outputs": [],
   "source": [
    "existing_thing = Thing(id=27, b='three')\n",
    "data = {'id': 13, 'b': 'three'}\n",
    "print(\"Valid: %s\" % serializer.is_valid())\n",
    "print(serializer.errors)"
   ]
  },
  {
   "cell_type": "markdown",
   "metadata": {},
   "source": [
    "But that's going too far. Our client would like to be able to GET the current\n",
    "thing, change the value of `b`, then PUT the updated data. The way we have\n",
    "written this, the client would be forced to first delete the `id` field from\n",
    "the data. If the `id` field is unchanged, then it's harmless, so let's allow that."
   ]
  },
  {
   "cell_type": "code",
   "execution_count": null,
   "metadata": {},
   "outputs": [],
   "source": [
    "from rest_framework import serializers\n",
    "\n",
    "class ThingSerializer(serializers.Serializer):\n",
    "    id = serializers.IntegerField(required=False)\n",
    "    b = serializers.CharField()\n",
    "\n",
    "    def validate_id(self, value):\n",
    "        # Are we trying to create a new thing?\n",
    "        if not self.instance and value:\n",
    "            raise serializers.ValidationError('Cannot specify id when creating new thing')\n",
    "        # Are we trying to update an existing thing?\n",
    "        if self.instance and value != self.instance.id:\n",
    "            raise serializers.ValidationError('Cannot change id when updating a thing. Current id is %r, new id is %r' % (self.instance.id, value))\n",
    "        return value\n",
    "\n",
    "    def create(self, validated_data):\n",
    "        return Thing(**validated_data)\n",
    "\n",
    "    def update(self, instance, validated_data):\n",
    "        thing = instance\n",
    "        thing.__dict__.update(validated_data)\n",
    "        return thing"
   ]
  },
  {
   "cell_type": "code",
   "execution_count": null,
   "metadata": {},
   "outputs": [],
   "source": [
    "existing_thing = Thing(id=27, b='three')\n",
    "data = {'id': 27, 'b': 'three'}\n",
    "serializer = ThingSerializer(instance=existing_thing, data=data)\n",
    "serializer.is_valid(raise_exception=True)"
   ]
  },
  {
   "cell_type": "markdown",
   "metadata": {},
   "source": [
    "If this was a Django application and Thing was a model, then `update`\n",
    "would also be expected to save the updated Thing before returning.\n",
    "\n",
    "Notice that this time, we passed *both* an instance and some serialized data\n",
    "to our serializer constructor. This tells it that we want to make changes to\n",
    "the instance based on the serialized data.\n",
    "\n",
    "\n",
    "We've changed the value of Thing's `id` field from 27 to 13.\n",
    "\n",
    "## Validation\n",
    "\n",
    "Validation is an area of DRF where I had to figure a lot out by trial and error.\n",
    "\n",
    "Keep in mind that validation only applies to deserializing.\n",
    "\n",
    "There are definite parallels between DRF validation and Django form validation,\n",
    "but some important differences as well.\n",
    "\n",
    "### DRF's field validation\n",
    "\n",
    "The first thing that DRF does is validate the input data for each field defined\n",
    "on the serializer. Any additional input data is simply ignored.\n",
    "\n",
    "Some of this is really obvious, such as providing a string as\n",
    "the value for an IntegerField is not valid.\n",
    "\n",
    "If the data passes validation, then `.validated_data`, and the data passed\n",
    "to `.create()` and `.update()`, will be a dictionary with a key for each field\n",
    "defined on the serializer, whose value is the *serialized* data for that field.\n",
    "\n",
    "*Note* this is a difference from Django forms. Part of Django form validation\n",
    "is to convert the input data from the form into corresponding Python data\n",
    "types, but DRF does not do this during validation."
   ]
  },
  {
   "cell_type": "markdown",
   "metadata": {},
   "source": [
    "## Nesting objects using keys\n",
    "\n",
    "There are multiple ways we can represent nested objects when we serialize. Let's add another\n",
    "class to our example and then briefly go over them."
   ]
  },
  {
   "cell_type": "code",
   "execution_count": null,
   "metadata": {},
   "outputs": [],
   "source": [
    "@dataclass\n",
    "class Box:\n",
    "    id: int\n",
    "    thing: Thing\n",
    "\n",
    "    def __str__(self):\n",
    "       return '<Box(%d, \"%s\")>' % (self.id, self.thing)"
   ]
  },
  {
   "cell_type": "markdown",
   "metadata": {},
   "source": [
    "The Box class has an identifier and a reference to a Thing.\n",
    "\n",
    "Our Thing class has an `id` field, and if we assume for a moment that\n",
    "these are Django models, we know that all we need is the `id` value and\n",
    "we can fetch the entire Thing from the database. So we can serialize\n",
    "a Box most simply by just using the `id` from our Thing:"
   ]
  },
  {
   "cell_type": "code",
   "execution_count": null,
   "metadata": {},
   "outputs": [],
   "source": [
    "from rest_framework import serializers\n",
    "\n",
    "class BoxSerializer(serializers.Serializer):\n",
    "    id = serializers.IntegerField()\n",
    "    thing = serializers.IntegerField(source='thing.id')"
   ]
  },
  {
   "cell_type": "markdown",
   "metadata": {},
   "source": [
    "The `source` argument on a field, as you might guess, in this case tells DRF to access the `id` attribute\n",
    "on the `thing` attribute of the object being serialized.\n",
    "\n",
    "Let's make a Box and serialize it."
   ]
  },
  {
   "cell_type": "code",
   "execution_count": null,
   "metadata": {},
   "outputs": [],
   "source": [
    "box = Box(2, Thing(id=5, b='drf'))\n",
    "serializer = BoxSerializer(instance=box)\n",
    "data = serializer.data\n",
    "print(data)"
   ]
  },
  {
   "cell_type": "markdown",
   "metadata": {},
   "source": [
    "This looks about as we'd expect.\n",
    "DRF has made the value of 'thing' be the id from our thing.\n",
    "\n",
    "As I hinted earlier, serializing is pretty straightforward. What\n",
    "about deserializing? Let's add a `create` method."
   ]
  },
  {
   "cell_type": "code",
   "execution_count": null,
   "metadata": {},
   "outputs": [],
   "source": [
    "def get_existing_thing(id: int) -> Thing:\n",
    "    \"\"\"Dummy 'get_existing_thing' method.\"\"\"\n",
    "    return Thing(id, 'existing')\n",
    "\n",
    "class BoxSerializer(serializers.Serializer):\n",
    "    id = serializers.IntegerField()\n",
    "    thing = ThingSerializer()\n",
    "\n",
    "    def create(self, validated_data):\n",
    "        thing = get_existing_thing(id=validated_data['thing']['id'])\n",
    "        return Box(id=validated_data['id'], thing=thing)"
   ]
  },
  {
   "cell_type": "code",
   "execution_count": null,
   "metadata": {},
   "outputs": [],
   "source": [
    "thing = Thing(id=1, b='two')\n",
    "ser = BoxSerializer(data={'id': 1, 'thing': 1})\n",
    "if not ser.is_valid():\n",
    "    print(ser.errors)\n",
    "ser.is_valid(raise_exception=True)\n",
    "box = ser.save()\n",
    "print(box)\n",
    "print(box.thing)"
   ]
  },
  {
   "cell_type": "markdown",
   "metadata": {},
   "source": [
    "We're assuming some method `get_existing_thing(id=...)` does the heavy\n",
    "lifting in finding an existing Thing for us. In Django, it would probably\n",
    "just be `Thing.objects.get(id=id)`.\n",
    "\n",
    "Here's a place where DRF's behavior confuses me.\n",
    "\n",
    "When we validate the data in which we've just represented the Thing\n",
    "as an `IntegerField` with `source='thing.id'`, validation gives us back\n",
    "not the same integer as I was expecting, but a dictionary with\n",
    "`{'id': <value of integer field>}`.  That's why we had to use\n",
    "`validated_data['thing']['id']` to get the value of `id` and not\n",
    "just `validated_data['id']`."
   ]
  },
  {
   "cell_type": "markdown",
   "metadata": {},
   "source": [
    "Continuing with serializing the `thing` field of our Box as just\n",
    "the `id` value of our `Thing`, what if we want to update our Box?\n",
    "Keeping in mind that for the `thing` field, all we can really update this way\n",
    "is which Thing our box is pointing at, we need to add\n",
    "an ``update`` method to our serializer again::"
   ]
  },
  {
   "cell_type": "code",
   "execution_count": null,
   "metadata": {},
   "outputs": [],
   "source": [
    "class BoxSerializer(serializers.Serializer):\n",
    "    id = serializers.IntegerField()\n",
    "    thing = serializers.IntegerField(source='thing.id')\n",
    "\n",
    "    def create(self, validated_data):\n",
    "        thing = get_existing_thing(id=validated_data['thing']['id'])\n",
    "        return Box(id=validated_data['id'], thing=thing)\n",
    "\n",
    "    def update(self, instance, validated_data):\n",
    "        instance.id = validated_data['id']\n",
    "        instance.thing = get_existing_thing(id=validated_data['thing']['id'])\n",
    "        return instance"
   ]
  },
  {
   "cell_type": "markdown",
   "metadata": {},
   "source": [
    "Let's try it out:"
   ]
  },
  {
   "cell_type": "code",
   "execution_count": null,
   "metadata": {},
   "outputs": [],
   "source": [
    "thing1 = Thing(1, \"thing1\")\n",
    "thing2 = Thing(2, \"thing2\")\n",
    "box = Box(3, thing1)\n",
    "print(str(box))\n",
    "\n",
    "data = {'id': 3, 'thing': 2}\n",
    "serializer = BoxSerializer(instance=box, data=data)\n",
    "serializer.is_valid(raise_exception=True)\n",
    "box = serializer.save()\n",
    "print(str(box))"
   ]
  },
  {
   "cell_type": "markdown",
   "metadata": {},
   "source": [
    "We can see that the box was changed to point at a different Thing.\n",
    "\n",
    "## Nested serialized objects\n",
    "\n",
    "Representing nested objects using a key works well. After all, relational databases\n",
    "have worked this way for decades. It might mean a few more queries, since we might have\n",
    "to make another call to get the object represented by a key or update it, but generally our\n",
    "application code has had a short network path to our database server, so the queries\n",
    "can be pretty quick.\n",
    "\n",
    "But in a modern app, our API's client might be a user's\n",
    "browser, and that might be a long way from our server, compared to the network distance\n",
    "between our web server and our database. So requiring many small API calls to get anything\n",
    "done, where each call requires the latency of a complete round trip between the browser\n",
    "and our web server, could have a negative effect on our app's performance.\n",
    "\n",
    "This is one reason why we might consider it worthwhile to add the complexity\n",
    "to our API of nesting entire serialized objects.\n",
    "\n",
    "To make things more concrete, I'm going to start a new series of examples."
   ]
  },
  {
   "cell_type": "code",
   "execution_count": null,
   "metadata": {},
   "outputs": [],
   "source": [
    "from dataclasses import dataclass\n",
    "from decimal import Decimal\n",
    "\n",
    "from rest_framework import serializers\n",
    "\n",
    "@dataclass\n",
    "class Person:\n",
    "    id: int\n",
    "    name: str\n",
    "    email: str\n",
    "\n",
    "@dataclass\n",
    "class Account:\n",
    "    id: int\n",
    "    owner: Person\n",
    "    balance: Decimal\n",
    "\n",
    "class PersonSerializer(serializers.Serializer):\n",
    "    id = serializers.IntegerField()\n",
    "    name = serializers.CharField()\n",
    "    email = serializers.EmailField()\n",
    "    \n",
    "class AccountSerializer(serializers.Serializer):\n",
    "    id = serializers.IntegerField()\n",
    "    balance = serializers.DecimalField(max_digits=10, decimal_places=2)\n",
    "    owner = PersonSerializer()"
   ]
  },
  {
   "cell_type": "markdown",
   "metadata": {},
   "source": [
    "Here we have very simple Person and Account classes, where the Account has a Person as owner.\n",
    "\n",
    "Anywhere you might use a serializer field in DRF, you can instead use a serializer.\n",
    "I'd have prefered to keep the two types more distinct (but nobody asked me).\n",
    "\n",
    "So if we want to nest a serialized person in our serialized account, we just\n",
    "tell DRF that the owner field on the account should be serialized using\n",
    "`PersonSerializer`."
   ]
  },
  {
   "cell_type": "code",
   "execution_count": null,
   "metadata": {},
   "outputs": [],
   "source": [
    "person = Person(id=1, name='Fred', email='fred@example.com')\n",
    "account = Account(id=1, balance=Decimal(50), owner=person)\n",
    "print(AccountSerializer(instance=account).data)"
   ]
  },
  {
   "cell_type": "markdown",
   "metadata": {},
   "source": [
    "As we've seen before, serializing is generally pretty straightforward. But with\n",
    "entire nested objects, deserializing and creating a new object will have some\n",
    "new complications.  Let's update our serializers with basic `create` methods."
   ]
  },
  {
   "cell_type": "code",
   "execution_count": null,
   "metadata": {},
   "outputs": [],
   "source": [
    "class PersonSerializer(serializers.Serializer):\n",
    "    id = serializers.IntegerField()\n",
    "    name = serializers.CharField()\n",
    "    email = serializers.EmailField()\n",
    "    \n",
    "    def create(self, validated_data):\n",
    "        return Person(**validated_data)\n",
    "    \n",
    "class AccountSerializer(serializers.Serializer):\n",
    "    balance = serializers.DecimalField(max_digits=10, decimal_places=2)\n",
    "    owner = PersonSerializer()\n",
    "    \n",
    "    def create(self, validated_data):\n",
    "        owner_serializer = PersonSerializer(data=validated_data.pop('owner'))\n",
    "        owner_serializer.is_valid(raise_exception=True)\n",
    "        validated_data['owner'] = owner_serializer.save()\n",
    "        return Account(**validated_data)"
   ]
  },
  {
   "cell_type": "markdown",
   "metadata": {},
   "source": [
    "We have some new code in `AccountSerializer.create` that first creates a person from\n",
    "the 'person' part of the validated_data, then uses that in creating the account. It's\n",
    "a little more code, but still fairly straightforward.\n",
    "\n",
    "But let's think about this a bit. This assumes that every time we create a new Account,\n",
    "we also want to create a new Person at the same time. That's probably not a valid\n",
    "assumption.\n",
    "\n",
    "Worse, "
   ]
  },
  {
   "cell_type": "markdown",
   "metadata": {},
   "source": [
    "NOW:\n",
    "- how does DRF validate the new field itself?\n",
    "- what gets passed to 'validate'\n",
    "- what gets passed to 'create'/'update'?\n"
   ]
  }
 ],
 "metadata": {
  "kernelspec": {
   "display_name": "Python 3",
   "language": "python",
   "name": "python3"
  },
  "language_info": {
   "codemirror_mode": {
    "name": "ipython",
    "version": 3
   },
   "file_extension": ".py",
   "mimetype": "text/x-python",
   "name": "python",
   "nbconvert_exporter": "python",
   "pygments_lexer": "ipython3",
   "version": "3.7.3"
  }
 },
 "nbformat": 4,
 "nbformat_minor": 2
}
